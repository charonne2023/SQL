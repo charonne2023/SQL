{
  "nbformat": 4,
  "nbformat_minor": 0,
  "metadata": {
    "colab": {
      "provenance": [],
      "collapsed_sections": [
        "dO34Jr6HbVDv",
        "pUDDFn7eu5u9",
        "P1PmB-Q2u5u9"
      ],
      "include_colab_link": true
    },
    "kernelspec": {
      "display_name": "Python 3",
      "language": "python",
      "name": "python3"
    },
    "language_info": {
      "codemirror_mode": {
        "name": "ipython",
        "version": 3
      },
      "file_extension": ".py",
      "mimetype": "text/x-python",
      "name": "python",
      "nbconvert_exporter": "python",
      "pygments_lexer": "ipython3",
      "version": "3.7.3"
    }
  },
  "cells": [
    {
      "cell_type": "markdown",
      "metadata": {
        "id": "view-in-github",
        "colab_type": "text"
      },
      "source": [
        "<a href=\"https://colab.research.google.com/github/charonne2023/SQL/blob/main/charonne2023%EA%B3%BC%EC%A0%9C%EC%A0%9C%EC%B6%9C%EB%B3%B8100per100JupyterNotebook_ch7_homework_RA_2020_student.ipynb\" target=\"_parent\"><img src=\"https://colab.research.google.com/assets/colab-badge.svg\" alt=\"Open In Colab\"/></a>"
      ]
    },
    {
      "cell_type": "markdown",
      "metadata": {
        "id": "cGbn68fuu5u8"
      },
      "source": [
        "# Homework 1. Relational Algebra"
      ]
    },
    {
      "cell_type": "markdown",
      "metadata": {
        "id": "SG-fDO3QbVDu"
      },
      "source": [
        "1. Use Google Colabortory and do your homework.\n",
        "3. (In Google colaboratory) Before you submit your homework, restart kernel and run all. (Runtime-> restart and run all)\n",
        "4. Save (File->Save) the file\n",
        "5. Submit your homework (this file) in Google classroom\n",
        "6. **Don't forget to click \"제출\" button** (\"Submit\", \"완료로 표시\", 또는 \"제출\" 버턴을 누르지 않으면 제출된 것이 아님)\n",
        "7. No late homeworks will be accepted for any reason!"
      ]
    },
    {
      "cell_type": "markdown",
      "metadata": {
        "id": "85iTiutDbVDv"
      },
      "source": [
        "To edit this cell, double click here\n",
        "```\n",
        "제출일:_2020.10.18\n",
        "```"
      ]
    },
    {
      "cell_type": "markdown",
      "metadata": {
        "id": "dO34Jr6HbVDv"
      },
      "source": [
        "## CompanyDB Schema\n",
        "\n",
        "### Note that attribute names are capitalized\n",
        "```\n",
        "E(Fname,Minit,Lname,Ssn,Bdate,Address,Sex,Salary,Superssn,Dno)\n",
        "D(Dname,Dnumber,Mgrssn,Mgrstartdate)\n",
        "DL(Dnumber,Dlocation)\n",
        "P(Pname,Pnumber,Plocation,Dnum)\n",
        "WO(Essn,Pno,Hours)\n",
        "DE(Essn,Dependent_name,Sex,Bdate,Relationship)\n",
        "```"
      ]
    },
    {
      "cell_type": "markdown",
      "metadata": {
        "id": "pUDDFn7eu5u9"
      },
      "source": [
        "## First, run the following cell before you do your homework"
      ]
    },
    {
      "cell_type": "markdown",
      "metadata": {
        "id": "P1PmB-Q2u5u9"
      },
      "source": [
        "## DB setup"
      ]
    },
    {
      "cell_type": "code",
      "metadata": {
        "id": "9LZeWDA7u5u-"
      },
      "source": [
        "EMPLOYEE_csv = 'Fname,Minit,Lname,Ssn,Bdate,Address,Sex,Salary,Superssn,Dno\\r\\nJohn,B,Smith,123456789,1965-01-09,731-Fondren-Houston-TX,M,30000.00,333445555,5\\r\\nFranklin,T,Wong,333445555,1955-12-08,638-Voss-Houston-TX,M,40000.00,888665555,5\\r\\nJoyce,A,English,453453453,1972-07-31,5631-Rice-Houston-TX,F,25000.00,333445555,5\\r\\nRamesh,K,Narayan,666884444,1962-09-15,975-Fire-Oak-Humble-TX,M,38000.00,333445555,5\\r\\nJames,E,Borg,888665555,1937-11-10,450-Stone-Houston-TX,M,55000.00,,1\\r\\nJennifer,S,Wallace,987654321,1941-06-20,291-Berry-Bellaire-TX,F,43000.00,888665555,4\\r\\nAhmad,V,Jabbar,987987987,1969-03-29,980-Dallas-Houston-TX,M,25000.00,987654321,4\\r\\nAlicia,J,Zelaya,999887777,1968-01-19,3321-Castle-Spring-TX,F,25000.00,987654321,4\\r\\n'\n",
        "DEPARTMENT_csv = 'Dname,Dnumber,Mgrssn,Mgrstartdate\\r\\nHeadquarters,1,888665555,1981-06-19\\r\\nAdministration,4,987654321,1995-01-01\\r\\nResearch,5,333445555,1988-05-22\\r\\n'\n",
        "DEPT_LOCATIONS_csv = 'Dnumber,Dlocation\\r\\n1,Houston\\r\\n4,Stafford\\r\\n5,Bellaire\\r\\n5,Houston\\r\\n5,Sugarland\\r\\n'\n",
        "PROJECT_csv = 'Pname,Pnumber,Plocation,Dnum\\r\\nProductX,1,Bellaire,5\\r\\nProductY,2,Sugarland,5\\r\\nProductZ,3,Houston,5\\r\\nComputerization,10,Stafford,4\\r\\nReorganization,20,Houston,1\\r\\nNewbenefits,30,Stafford,4\\r\\n'\n",
        "WORKS_ON_csv = 'Essn,Pno,Hours\\r\\n123456789,1,32.5\\r\\n123456789,2,7.5\\r\\n333445555,2,10.0\\r\\n333445555,3,10.0\\r\\n333445555,10,10.0\\r\\n333445555,20,10.0\\r\\n453453453,1,20.0\\r\\n453453453,2,20.0\\r\\n666884444,3,40.0\\r\\n888665555,20,\\r\\n987654321,20,15.0\\r\\n987654321,30,20.0\\r\\n987987987,10,35.0\\r\\n987987987,30,5.0\\r\\n999887777,10,10.0\\r\\n999887777,30,30.0\\r\\n'\n",
        "DEPENDENT_csv = 'Essn,Dependent_name,Sex,Bdate,Relationship\\r\\n123456789,Alice,F,1988-12-30,Daughter\\r\\n123456789,Elizabeth,F,1967-05-05,Spouse\\r\\n123456789,Michael,M,1988-01-04,Son\\r\\n333445555,Alice,F,1986-04-05,Daughter\\r\\n333445555,Joy,F,1958-05-03,Spouse\\r\\n333445555,Theodore,M,1983-10-25,Son\\r\\n987654321,Abner,M,1942-02-28,Spouse\\r\\n'\n",
        "\n",
        "# import packages\n",
        "\n",
        "import pandas as pd\n",
        "from io import StringIO \n",
        "import re\n",
        "\n",
        "# Tables\n",
        "EMPLOYEE = pd.read_csv(StringIO(EMPLOYEE_csv))\n",
        "DEPARTMENT = pd.read_csv(StringIO(DEPARTMENT_csv))\n",
        "DEPT_LOCATIONS = pd.read_csv(StringIO(DEPT_LOCATIONS_csv))\n",
        "PROJECT = pd.read_csv(StringIO(PROJECT_csv))\n",
        "WORKS_ON = pd.read_csv(StringIO(WORKS_ON_csv))\n",
        "DEPENDENT = pd.read_csv(StringIO(DEPENDENT_csv))\n",
        "\n",
        "# short_names for Tables\n",
        "E = EMPLOYEE\n",
        "D = DEPARTMENT\n",
        "DL = DEPT_LOCATIONS\n",
        "P = PROJECT\n",
        "WO = WORKS_ON\n",
        "DE = DEPENDENT\n",
        "\n",
        "def rename(R, C):\n",
        "    return R.rename(columns=C)\n",
        "\n",
        "def select(R, C):\n",
        "    # The following substitution may NOT work \n",
        "    # when column name is equal to a string value in C\n",
        "    tokens = re.split(r'(\\W+)', C)\n",
        "    new_tokens = [\"R.\" + token  if token in R.columns else token \\\n",
        "                  for token in tokens] \n",
        "    selected = eval(''.join(new_tokens))\n",
        "    return R[selected].reset_index(drop=True)\n",
        "\n",
        "def project(R, C):\n",
        "    return R[C].drop_duplicates().reset_index(drop=True)\n",
        "\n",
        "def union(R, S):\n",
        "    S.columns = R.columns\n",
        "    T = pd.concat([R, S], ignore_index=True)\n",
        "    T = T.drop_duplicates().reset_index(drop=True)\n",
        "    return T\n",
        "\n",
        "def intersect(R, S):\n",
        "    S.columns = R.columns\n",
        "    return R.merge(S).reset_index(drop=True)\n",
        "\n",
        "def minus(R, S):\n",
        "    S.columns = R.columns\n",
        "    return pd.concat([R, S, S]).drop_duplicates(keep=False).reset_index(drop=True)\n",
        "\n",
        "def product(R, S):\n",
        "    \"\"\"Determine Cartesian product of two data frames.\"\"\"\n",
        "    key = 'key'\n",
        "    while key in R.columns or key in S.columns:\n",
        "        key = '_' + key\n",
        "    key_d = {key: 0}\n",
        "    return pd.merge(R.assign(**key_d), S.assign(**key_d), on=key)\\\n",
        "           .drop(key, axis=1).reset_index(drop=True)\n",
        "\n",
        "def natural_join(R, S):\n",
        "    return pd.merge(R, S).reset_index(drop=True)\n",
        "\n",
        "def natural_join2(R, S, keys_R, keys_S):\n",
        "    return pd.merge(R, S, left_on=keys_R, right_on=keys_S)\\\n",
        "           .drop(keys_S, axis=1).reset_index(drop=True)\n",
        "\n",
        "def division(R, S):\n",
        "    Z = set(R.columns)\n",
        "    X = set(S.columns)\n",
        "    assert X <= Z\n",
        "    Y = pd.Index(Z - X)\n",
        "    T1 = project(R, Y)\n",
        "    T2 = project(minus(product(T1, S), R), Y)\n",
        "    T = minus(T1, T2)\n",
        "    return T.reset_index(drop=True)"
      ],
      "execution_count": null,
      "outputs": []
    },
    {
      "cell_type": "markdown",
      "metadata": {
        "id": "JagNmydEbVD0"
      },
      "source": [
        "## <font color='red'>Query Statement에 나타나지 않은 상수(값)을 사용하면 무조건 0점 처리됨. 예를 들어, Query 1에서 \"Research\"라는 상수값만 나타나야 함</font>\n",
        "\n",
        "## 각 질의당 10점"
      ]
    },
    {
      "cell_type": "markdown",
      "metadata": {
        "id": "XX9h3IAobVD1"
      },
      "source": [
        "### Query 1: Retrieve the last name, first name, and address of employees who work for the \"Research\" department. (Use cartesian product. Do NOT use join)"
      ]
    },
    {
      "cell_type": "code",
      "metadata": {
        "id": "DUrRv6qMbVD1",
        "colab": {
          "base_uri": "https://localhost:8080/",
          "height": 173
        },
        "outputId": "9be0d065-a789-433e-8bdd-cc0d65afce82"
      },
      "source": [
        "# YOUR CODE HERE      10\n",
        "T = select(D, \"Dname=='Research'\")\n",
        "U = project(T, [\"Dnumber\"])\n",
        "V = select(product(E,U), \"Dno==Dnumber\")\n",
        "project(V, [\"Fname\",\"Lname\",\"Address\"])"
      ],
      "execution_count": null,
      "outputs": [
        {
          "output_type": "execute_result",
          "data": {
            "text/html": [
              "<div>\n",
              "<style scoped>\n",
              "    .dataframe tbody tr th:only-of-type {\n",
              "        vertical-align: middle;\n",
              "    }\n",
              "\n",
              "    .dataframe tbody tr th {\n",
              "        vertical-align: top;\n",
              "    }\n",
              "\n",
              "    .dataframe thead th {\n",
              "        text-align: right;\n",
              "    }\n",
              "</style>\n",
              "<table border=\"1\" class=\"dataframe\">\n",
              "  <thead>\n",
              "    <tr style=\"text-align: right;\">\n",
              "      <th></th>\n",
              "      <th>Fname</th>\n",
              "      <th>Lname</th>\n",
              "      <th>Address</th>\n",
              "    </tr>\n",
              "  </thead>\n",
              "  <tbody>\n",
              "    <tr>\n",
              "      <th>0</th>\n",
              "      <td>John</td>\n",
              "      <td>Smith</td>\n",
              "      <td>731-Fondren-Houston-TX</td>\n",
              "    </tr>\n",
              "    <tr>\n",
              "      <th>1</th>\n",
              "      <td>Franklin</td>\n",
              "      <td>Wong</td>\n",
              "      <td>638-Voss-Houston-TX</td>\n",
              "    </tr>\n",
              "    <tr>\n",
              "      <th>2</th>\n",
              "      <td>Joyce</td>\n",
              "      <td>English</td>\n",
              "      <td>5631-Rice-Houston-TX</td>\n",
              "    </tr>\n",
              "    <tr>\n",
              "      <th>3</th>\n",
              "      <td>Ramesh</td>\n",
              "      <td>Narayan</td>\n",
              "      <td>975-Fire-Oak-Humble-TX</td>\n",
              "    </tr>\n",
              "  </tbody>\n",
              "</table>\n",
              "</div>"
            ],
            "text/plain": [
              "      Fname    Lname                 Address\n",
              "0      John    Smith  731-Fondren-Houston-TX\n",
              "1  Franklin     Wong     638-Voss-Houston-TX\n",
              "2     Joyce  English    5631-Rice-Houston-TX\n",
              "3    Ramesh  Narayan  975-Fire-Oak-Humble-TX"
            ]
          },
          "metadata": {
            "tags": []
          },
          "execution_count": 2
        }
      ]
    },
    {
      "cell_type": "markdown",
      "metadata": {
        "id": "Enn1l0UNbVD3"
      },
      "source": [
        "### Query 2: Retrieve the last name, first name, and address of employees who work for the \"Research\" department. (Do NOT use cartesian product. Use natural join)"
      ]
    },
    {
      "cell_type": "code",
      "metadata": {
        "id": "Z4FNhYOAbVD4",
        "colab": {
          "base_uri": "https://localhost:8080/",
          "height": 173
        },
        "outputId": "69ce270f-08db-4e1e-c1b0-0bb8eea3aede"
      },
      "source": [
        "# YOUR CODE HERE      10\n",
        "Q = rename(E, {'Dno':'Dnumber'})\n",
        "U = natural_join(Q,D)\n",
        "R = select(U, 'Dname==\"Research\"')\n",
        "project(R, [\"Fname\",\"Lname\",\"Address\"])"
      ],
      "execution_count": null,
      "outputs": [
        {
          "output_type": "execute_result",
          "data": {
            "text/html": [
              "<div>\n",
              "<style scoped>\n",
              "    .dataframe tbody tr th:only-of-type {\n",
              "        vertical-align: middle;\n",
              "    }\n",
              "\n",
              "    .dataframe tbody tr th {\n",
              "        vertical-align: top;\n",
              "    }\n",
              "\n",
              "    .dataframe thead th {\n",
              "        text-align: right;\n",
              "    }\n",
              "</style>\n",
              "<table border=\"1\" class=\"dataframe\">\n",
              "  <thead>\n",
              "    <tr style=\"text-align: right;\">\n",
              "      <th></th>\n",
              "      <th>Fname</th>\n",
              "      <th>Lname</th>\n",
              "      <th>Address</th>\n",
              "    </tr>\n",
              "  </thead>\n",
              "  <tbody>\n",
              "    <tr>\n",
              "      <th>0</th>\n",
              "      <td>John</td>\n",
              "      <td>Smith</td>\n",
              "      <td>731-Fondren-Houston-TX</td>\n",
              "    </tr>\n",
              "    <tr>\n",
              "      <th>1</th>\n",
              "      <td>Franklin</td>\n",
              "      <td>Wong</td>\n",
              "      <td>638-Voss-Houston-TX</td>\n",
              "    </tr>\n",
              "    <tr>\n",
              "      <th>2</th>\n",
              "      <td>Joyce</td>\n",
              "      <td>English</td>\n",
              "      <td>5631-Rice-Houston-TX</td>\n",
              "    </tr>\n",
              "    <tr>\n",
              "      <th>3</th>\n",
              "      <td>Ramesh</td>\n",
              "      <td>Narayan</td>\n",
              "      <td>975-Fire-Oak-Humble-TX</td>\n",
              "    </tr>\n",
              "  </tbody>\n",
              "</table>\n",
              "</div>"
            ],
            "text/plain": [
              "      Fname    Lname                 Address\n",
              "0      John    Smith  731-Fondren-Houston-TX\n",
              "1  Franklin     Wong     638-Voss-Houston-TX\n",
              "2     Joyce  English    5631-Rice-Houston-TX\n",
              "3    Ramesh  Narayan  975-Fire-Oak-Humble-TX"
            ]
          },
          "metadata": {
            "tags": []
          },
          "execution_count": 3
        }
      ]
    },
    {
      "cell_type": "markdown",
      "metadata": {
        "id": "OoCFRBQIbVD6"
      },
      "source": [
        "### Query 3: For every project located in \"Stafford\", list the project name, the controlling department name, and the department manager's last name, first name. (Use natural_join2, No cartesian products and natural joins are allowed)"
      ]
    },
    {
      "cell_type": "code",
      "metadata": {
        "id": "GRnC8Ik5bVD7",
        "colab": {
          "base_uri": "https://localhost:8080/",
          "height": 111
        },
        "outputId": "6b1d2c2c-699f-4d39-b432-1f4de6a31d68"
      },
      "source": [
        "# YOUR CODE HERE      10\n",
        "Q = select(P, \"Plocation=='Stafford'\")\n",
        "R = natural_join2(D, Q, ['Dnumber'], ['Dnum'])\n",
        "S = project(R, ['Mgrssn'])\n",
        "T = natural_join2(E, S, [\"Ssn\"], [\"Mgrssn\"])\n",
        "U = natural_join2(R, T, [\"Dnumber\"],[\"Dno\"])\n",
        "project(U, [\"Pname\",\"Dname\",\"Lname\",\"Fname\"])"
      ],
      "execution_count": null,
      "outputs": [
        {
          "output_type": "execute_result",
          "data": {
            "text/html": [
              "<div>\n",
              "<style scoped>\n",
              "    .dataframe tbody tr th:only-of-type {\n",
              "        vertical-align: middle;\n",
              "    }\n",
              "\n",
              "    .dataframe tbody tr th {\n",
              "        vertical-align: top;\n",
              "    }\n",
              "\n",
              "    .dataframe thead th {\n",
              "        text-align: right;\n",
              "    }\n",
              "</style>\n",
              "<table border=\"1\" class=\"dataframe\">\n",
              "  <thead>\n",
              "    <tr style=\"text-align: right;\">\n",
              "      <th></th>\n",
              "      <th>Pname</th>\n",
              "      <th>Dname</th>\n",
              "      <th>Lname</th>\n",
              "      <th>Fname</th>\n",
              "    </tr>\n",
              "  </thead>\n",
              "  <tbody>\n",
              "    <tr>\n",
              "      <th>0</th>\n",
              "      <td>Computerization</td>\n",
              "      <td>Administration</td>\n",
              "      <td>Wallace</td>\n",
              "      <td>Jennifer</td>\n",
              "    </tr>\n",
              "    <tr>\n",
              "      <th>1</th>\n",
              "      <td>Newbenefits</td>\n",
              "      <td>Administration</td>\n",
              "      <td>Wallace</td>\n",
              "      <td>Jennifer</td>\n",
              "    </tr>\n",
              "  </tbody>\n",
              "</table>\n",
              "</div>"
            ],
            "text/plain": [
              "             Pname           Dname    Lname     Fname\n",
              "0  Computerization  Administration  Wallace  Jennifer\n",
              "1      Newbenefits  Administration  Wallace  Jennifer"
            ]
          },
          "metadata": {
            "tags": []
          },
          "execution_count": 4
        }
      ]
    },
    {
      "cell_type": "markdown",
      "metadata": {
        "id": "WYhwu2JYbVD9"
      },
      "source": [
        "### Query 4: Find the last name, first name of employees who work on all the projects controlled by department number 4."
      ]
    },
    {
      "cell_type": "code",
      "metadata": {
        "id": "iI42QYBLbVD9",
        "colab": {
          "base_uri": "https://localhost:8080/",
          "height": 111
        },
        "outputId": "a8c32a82-7432-4d5d-ebef-33ff495c5813"
      },
      "source": [
        "# YOUR CODE HERE      10\n",
        "Q = select(P, \"Dnum == 4\")\n",
        "R = project(Q, [\"Pnumber\"])\n",
        "S = project(WO, [\"Essn\",\"Pno\"])\n",
        "T = rename(R, {'Pnumber':'Pno'})\n",
        "U = division(S, T)\n",
        "V = natural_join2(E, U, [\"Ssn\"],[\"Essn\"])\n",
        "project(V, [\"Lname\",\"Fname\"])"
      ],
      "execution_count": null,
      "outputs": [
        {
          "output_type": "execute_result",
          "data": {
            "text/html": [
              "<div>\n",
              "<style scoped>\n",
              "    .dataframe tbody tr th:only-of-type {\n",
              "        vertical-align: middle;\n",
              "    }\n",
              "\n",
              "    .dataframe tbody tr th {\n",
              "        vertical-align: top;\n",
              "    }\n",
              "\n",
              "    .dataframe thead th {\n",
              "        text-align: right;\n",
              "    }\n",
              "</style>\n",
              "<table border=\"1\" class=\"dataframe\">\n",
              "  <thead>\n",
              "    <tr style=\"text-align: right;\">\n",
              "      <th></th>\n",
              "      <th>Lname</th>\n",
              "      <th>Fname</th>\n",
              "    </tr>\n",
              "  </thead>\n",
              "  <tbody>\n",
              "    <tr>\n",
              "      <th>0</th>\n",
              "      <td>Jabbar</td>\n",
              "      <td>Ahmad</td>\n",
              "    </tr>\n",
              "    <tr>\n",
              "      <th>1</th>\n",
              "      <td>Zelaya</td>\n",
              "      <td>Alicia</td>\n",
              "    </tr>\n",
              "  </tbody>\n",
              "</table>\n",
              "</div>"
            ],
            "text/plain": [
              "    Lname   Fname\n",
              "0  Jabbar   Ahmad\n",
              "1  Zelaya  Alicia"
            ]
          },
          "metadata": {
            "tags": []
          },
          "execution_count": 5
        }
      ]
    },
    {
      "cell_type": "markdown",
      "metadata": {
        "id": "0gcvcrCibVEA"
      },
      "source": [
        "### Query 5: Make a list of project names for projects that involve an employee whose last name is \"Wallace\", either as a worker or as a manager of the department that controls the project."
      ]
    },
    {
      "cell_type": "code",
      "metadata": {
        "id": "zkvq_QVEbVEA",
        "colab": {
          "base_uri": "https://localhost:8080/",
          "height": 142
        },
        "outputId": "75c90e13-f429-4566-b132-687e5bf3b087"
      },
      "source": [
        "# YOUR CODE HERE      10\n",
        "Q = select(E, \"Lname=='Wallace'\")\n",
        "R = natural_join2(Q, WO, ['Ssn'],['Essn'])\n",
        "T1 = project(R, ['Pno'])\n",
        "S = natural_join2(Q, D, ['Ssn'], ['Mgrssn'])\n",
        "U = natural_join2(S, P, ['Dno'], ['Dnum'])\n",
        "T2 = project(U, ['Pnumber'])\n",
        "V = union(T1, T2)\n",
        "W = P\n",
        "Y = natural_join2(W, V, ['Pnumber'], ['Pno'])\n",
        "project(Y, ['Pname'])"
      ],
      "execution_count": null,
      "outputs": [
        {
          "output_type": "execute_result",
          "data": {
            "text/html": [
              "<div>\n",
              "<style scoped>\n",
              "    .dataframe tbody tr th:only-of-type {\n",
              "        vertical-align: middle;\n",
              "    }\n",
              "\n",
              "    .dataframe tbody tr th {\n",
              "        vertical-align: top;\n",
              "    }\n",
              "\n",
              "    .dataframe thead th {\n",
              "        text-align: right;\n",
              "    }\n",
              "</style>\n",
              "<table border=\"1\" class=\"dataframe\">\n",
              "  <thead>\n",
              "    <tr style=\"text-align: right;\">\n",
              "      <th></th>\n",
              "      <th>Pname</th>\n",
              "    </tr>\n",
              "  </thead>\n",
              "  <tbody>\n",
              "    <tr>\n",
              "      <th>0</th>\n",
              "      <td>Computerization</td>\n",
              "    </tr>\n",
              "    <tr>\n",
              "      <th>1</th>\n",
              "      <td>Reorganization</td>\n",
              "    </tr>\n",
              "    <tr>\n",
              "      <th>2</th>\n",
              "      <td>Newbenefits</td>\n",
              "    </tr>\n",
              "  </tbody>\n",
              "</table>\n",
              "</div>"
            ],
            "text/plain": [
              "             Pname\n",
              "0  Computerization\n",
              "1   Reorganization\n",
              "2      Newbenefits"
            ]
          },
          "metadata": {
            "tags": []
          },
          "execution_count": 6
        }
      ]
    },
    {
      "cell_type": "markdown",
      "metadata": {
        "id": "HRaVjt4UbVEC"
      },
      "source": [
        "Query 6: List the last name, first name of all employees with two or more dependents. (Do NOT use aggregate operator)"
      ]
    },
    {
      "cell_type": "code",
      "metadata": {
        "id": "iSSsSTYTt2b0",
        "colab": {
          "base_uri": "https://localhost:8080/",
          "height": 111
        },
        "outputId": "c3b070d0-8431-4ee6-9993-0d4381ab9603"
      },
      "source": [
        "# YOUR CODE HERE      10\n",
        "A = product(DE, DE)\n",
        "B = select(A, \"(Essn_x == Essn_y) & (Dependent_name_x != Dependent_name_y)\")\n",
        "C = intersect(project(B, ['Essn_x']), project(DE,['Essn']))\n",
        "R = natural_join2(C, E, ['Essn_x'], ['Ssn'])\n",
        "project(R, ['Lname', 'Fname'])\n"
      ],
      "execution_count": null,
      "outputs": [
        {
          "output_type": "execute_result",
          "data": {
            "text/html": [
              "<div>\n",
              "<style scoped>\n",
              "    .dataframe tbody tr th:only-of-type {\n",
              "        vertical-align: middle;\n",
              "    }\n",
              "\n",
              "    .dataframe tbody tr th {\n",
              "        vertical-align: top;\n",
              "    }\n",
              "\n",
              "    .dataframe thead th {\n",
              "        text-align: right;\n",
              "    }\n",
              "</style>\n",
              "<table border=\"1\" class=\"dataframe\">\n",
              "  <thead>\n",
              "    <tr style=\"text-align: right;\">\n",
              "      <th></th>\n",
              "      <th>Lname</th>\n",
              "      <th>Fname</th>\n",
              "    </tr>\n",
              "  </thead>\n",
              "  <tbody>\n",
              "    <tr>\n",
              "      <th>0</th>\n",
              "      <td>Smith</td>\n",
              "      <td>John</td>\n",
              "    </tr>\n",
              "    <tr>\n",
              "      <th>1</th>\n",
              "      <td>Wong</td>\n",
              "      <td>Franklin</td>\n",
              "    </tr>\n",
              "  </tbody>\n",
              "</table>\n",
              "</div>"
            ],
            "text/plain": [
              "   Lname     Fname\n",
              "0  Smith      John\n",
              "1   Wong  Franklin"
            ]
          },
          "metadata": {
            "tags": []
          },
          "execution_count": 7
        }
      ]
    },
    {
      "cell_type": "markdown",
      "metadata": {
        "id": "u1q0KtjXbVEF"
      },
      "source": [
        "### Query 7: Retrieve the last name, first name of employees who have no dependents."
      ]
    },
    {
      "cell_type": "code",
      "metadata": {
        "id": "CuEEOHudbVEF",
        "colab": {
          "base_uri": "https://localhost:8080/",
          "height": 204
        },
        "outputId": "5653cd55-0ef1-4c57-ec24-ed92cbd7d53a"
      },
      "source": [
        "# YOUR CODE HERE      10\n",
        "T1 = project(DE, ['Essn'])\n",
        "T2 = project(E, ['Ssn'])\n",
        "Q = minus(T2,T1)\n",
        "R = natural_join(E, Q)\n",
        "project(R, ['Lname','Fname'])"
      ],
      "execution_count": null,
      "outputs": [
        {
          "output_type": "execute_result",
          "data": {
            "text/html": [
              "<div>\n",
              "<style scoped>\n",
              "    .dataframe tbody tr th:only-of-type {\n",
              "        vertical-align: middle;\n",
              "    }\n",
              "\n",
              "    .dataframe tbody tr th {\n",
              "        vertical-align: top;\n",
              "    }\n",
              "\n",
              "    .dataframe thead th {\n",
              "        text-align: right;\n",
              "    }\n",
              "</style>\n",
              "<table border=\"1\" class=\"dataframe\">\n",
              "  <thead>\n",
              "    <tr style=\"text-align: right;\">\n",
              "      <th></th>\n",
              "      <th>Lname</th>\n",
              "      <th>Fname</th>\n",
              "    </tr>\n",
              "  </thead>\n",
              "  <tbody>\n",
              "    <tr>\n",
              "      <th>0</th>\n",
              "      <td>English</td>\n",
              "      <td>Joyce</td>\n",
              "    </tr>\n",
              "    <tr>\n",
              "      <th>1</th>\n",
              "      <td>Narayan</td>\n",
              "      <td>Ramesh</td>\n",
              "    </tr>\n",
              "    <tr>\n",
              "      <th>2</th>\n",
              "      <td>Borg</td>\n",
              "      <td>James</td>\n",
              "    </tr>\n",
              "    <tr>\n",
              "      <th>3</th>\n",
              "      <td>Jabbar</td>\n",
              "      <td>Ahmad</td>\n",
              "    </tr>\n",
              "    <tr>\n",
              "      <th>4</th>\n",
              "      <td>Zelaya</td>\n",
              "      <td>Alicia</td>\n",
              "    </tr>\n",
              "  </tbody>\n",
              "</table>\n",
              "</div>"
            ],
            "text/plain": [
              "     Lname   Fname\n",
              "0  English   Joyce\n",
              "1  Narayan  Ramesh\n",
              "2     Borg   James\n",
              "3   Jabbar   Ahmad\n",
              "4   Zelaya  Alicia"
            ]
          },
          "metadata": {
            "tags": []
          },
          "execution_count": 8
        }
      ]
    },
    {
      "cell_type": "markdown",
      "metadata": {
        "id": "493uPH6vbVEH"
      },
      "source": [
        "### Query 8: List the last name, first name of managers who have at least one dependent."
      ]
    },
    {
      "cell_type": "code",
      "metadata": {
        "id": "XaWHVQYobVEI",
        "colab": {
          "base_uri": "https://localhost:8080/",
          "height": 111
        },
        "outputId": "4802a881-516d-4d56-d130-a52ee83e633e"
      },
      "source": [
        "# YOUR CODE HERE      10\n",
        "Q = project(DE, ['Essn'])\n",
        "R = natural_join2(Q, D, ['Essn'], ['Mgrssn'])\n",
        "S = natural_join2(E, R, ['Ssn'], ['Essn'])\n",
        "project(S, ['Lname','Fname'])"
      ],
      "execution_count": null,
      "outputs": [
        {
          "output_type": "execute_result",
          "data": {
            "text/html": [
              "<div>\n",
              "<style scoped>\n",
              "    .dataframe tbody tr th:only-of-type {\n",
              "        vertical-align: middle;\n",
              "    }\n",
              "\n",
              "    .dataframe tbody tr th {\n",
              "        vertical-align: top;\n",
              "    }\n",
              "\n",
              "    .dataframe thead th {\n",
              "        text-align: right;\n",
              "    }\n",
              "</style>\n",
              "<table border=\"1\" class=\"dataframe\">\n",
              "  <thead>\n",
              "    <tr style=\"text-align: right;\">\n",
              "      <th></th>\n",
              "      <th>Lname</th>\n",
              "      <th>Fname</th>\n",
              "    </tr>\n",
              "  </thead>\n",
              "  <tbody>\n",
              "    <tr>\n",
              "      <th>0</th>\n",
              "      <td>Wong</td>\n",
              "      <td>Franklin</td>\n",
              "    </tr>\n",
              "    <tr>\n",
              "      <th>1</th>\n",
              "      <td>Wallace</td>\n",
              "      <td>Jennifer</td>\n",
              "    </tr>\n",
              "  </tbody>\n",
              "</table>\n",
              "</div>"
            ],
            "text/plain": [
              "     Lname     Fname\n",
              "0     Wong  Franklin\n",
              "1  Wallace  Jennifer"
            ]
          },
          "metadata": {
            "tags": []
          },
          "execution_count": 14
        }
      ]
    },
    {
      "cell_type": "code",
      "metadata": {
        "id": "WiO56TEl7F3N"
      },
      "source": [],
      "execution_count": null,
      "outputs": []
    },
    {
      "cell_type": "markdown",
      "metadata": {
        "id": "HoEbehCabVEK"
      },
      "source": [
        "### Query 9: Retrieve the last name, first name of all employees in department 5 who work more than 10 hours per week on the ProductX project."
      ]
    },
    {
      "cell_type": "code",
      "metadata": {
        "id": "siogpjVPbVEK",
        "colab": {
          "base_uri": "https://localhost:8080/",
          "height": 111
        },
        "outputId": "6ae6409f-be7f-4200-94c6-0a2b65f91d5a"
      },
      "source": [
        "# YOUR CODE HERE      10\n",
        "Q = select(P, \"Pname =='ProductX'\")\n",
        "R = project(Q, ['Pnumber'])\n",
        "S = natural_join2(WO, R, ['Pno'], ['Pnumber'])\n",
        "T = select(S, \"Hours > 10\")\n",
        "U = select(E, \"Dno == 5\")\n",
        "V = natural_join2(U, T, ['Ssn'], ['Essn'])\n",
        "project(V, ['Lname', 'Fname'])"
      ],
      "execution_count": null,
      "outputs": [
        {
          "output_type": "execute_result",
          "data": {
            "text/html": [
              "<div>\n",
              "<style scoped>\n",
              "    .dataframe tbody tr th:only-of-type {\n",
              "        vertical-align: middle;\n",
              "    }\n",
              "\n",
              "    .dataframe tbody tr th {\n",
              "        vertical-align: top;\n",
              "    }\n",
              "\n",
              "    .dataframe thead th {\n",
              "        text-align: right;\n",
              "    }\n",
              "</style>\n",
              "<table border=\"1\" class=\"dataframe\">\n",
              "  <thead>\n",
              "    <tr style=\"text-align: right;\">\n",
              "      <th></th>\n",
              "      <th>Lname</th>\n",
              "      <th>Fname</th>\n",
              "    </tr>\n",
              "  </thead>\n",
              "  <tbody>\n",
              "    <tr>\n",
              "      <th>0</th>\n",
              "      <td>Smith</td>\n",
              "      <td>John</td>\n",
              "    </tr>\n",
              "    <tr>\n",
              "      <th>1</th>\n",
              "      <td>English</td>\n",
              "      <td>Joyce</td>\n",
              "    </tr>\n",
              "  </tbody>\n",
              "</table>\n",
              "</div>"
            ],
            "text/plain": [
              "     Lname  Fname\n",
              "0    Smith   John\n",
              "1  English  Joyce"
            ]
          },
          "metadata": {
            "tags": []
          },
          "execution_count": 11
        }
      ]
    },
    {
      "cell_type": "markdown",
      "metadata": {
        "id": "fU8W0VYQbVEM"
      },
      "source": [
        "### Query 10: Retrieve the last name, first name of all employees who is supervised by James Borg"
      ]
    },
    {
      "cell_type": "code",
      "metadata": {
        "id": "58vNpTnyng7s",
        "colab": {
          "base_uri": "https://localhost:8080/",
          "height": 111
        },
        "outputId": "847798a6-f574-4741-c5cf-d0149d40e74e"
      },
      "source": [
        "Q = select(E, \"(Fname =='James') & (Lname == 'Borg')\")      10\n",
        "R = project(Q, ['Ssn'])\n",
        "S = natural_join2(R, E, ['Ssn'], ['Superssn'])\n",
        "project(S, ['Lname', 'Fname'])"
      ],
      "execution_count": null,
      "outputs": [
        {
          "output_type": "execute_result",
          "data": {
            "text/html": [
              "<div>\n",
              "<style scoped>\n",
              "    .dataframe tbody tr th:only-of-type {\n",
              "        vertical-align: middle;\n",
              "    }\n",
              "\n",
              "    .dataframe tbody tr th {\n",
              "        vertical-align: top;\n",
              "    }\n",
              "\n",
              "    .dataframe thead th {\n",
              "        text-align: right;\n",
              "    }\n",
              "</style>\n",
              "<table border=\"1\" class=\"dataframe\">\n",
              "  <thead>\n",
              "    <tr style=\"text-align: right;\">\n",
              "      <th></th>\n",
              "      <th>Lname</th>\n",
              "      <th>Fname</th>\n",
              "    </tr>\n",
              "  </thead>\n",
              "  <tbody>\n",
              "    <tr>\n",
              "      <th>0</th>\n",
              "      <td>Wong</td>\n",
              "      <td>Franklin</td>\n",
              "    </tr>\n",
              "    <tr>\n",
              "      <th>1</th>\n",
              "      <td>Wallace</td>\n",
              "      <td>Jennifer</td>\n",
              "    </tr>\n",
              "  </tbody>\n",
              "</table>\n",
              "</div>"
            ],
            "text/plain": [
              "     Lname     Fname\n",
              "0     Wong  Franklin\n",
              "1  Wallace  Jennifer"
            ]
          },
          "metadata": {
            "tags": []
          },
          "execution_count": 12
        }
      ]
    }
  ]
}
