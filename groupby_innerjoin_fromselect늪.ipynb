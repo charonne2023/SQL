{
  "nbformat": 4,
  "nbformat_minor": 0,
  "metadata": {
    "colab": {
      "provenance": [],
      "authorship_tag": "ABX9TyPphPgOo8E7bIqF/gnECejX",
      "include_colab_link": true
    },
    "kernelspec": {
      "name": "python3",
      "display_name": "Python 3"
    },
    "language_info": {
      "name": "python"
    }
  },
  "cells": [
    {
      "cell_type": "markdown",
      "metadata": {
        "id": "view-in-github",
        "colab_type": "text"
      },
      "source": [
        "<a href=\"https://colab.research.google.com/github/charonne2023/SQL/blob/main/groupby_innerjoin_fromselect%EB%8A%AA.ipynb\" target=\"_parent\"><img src=\"https://colab.research.google.com/assets/colab-badge.svg\" alt=\"Open In Colab\"/></a>"
      ]
    },
    {
      "cell_type": "code",
      "execution_count": null,
      "metadata": {
        "id": "SlIiC_Z2Usa4"
      },
      "outputs": [],
      "source": [
        "select DISTINCT top 100 *\n",
        "from\n",
        "( select distinct top 100 pms1.pid, pms1 PermTypeKey\n",
        "  from Rpmdb.do.Permission pms1\n",
        "  where pms1.PermTypekey = 'O' and pms1.pid != 0) A\n",
        "join Rpmdb.dbo.Permission B on A.pid = B.pid and A.PermTypeKey = B.PermTypeKey"
      ]
    }
  ]
}