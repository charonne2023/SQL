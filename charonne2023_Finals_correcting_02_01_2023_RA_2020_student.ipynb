{
  "nbformat": 4,
  "nbformat_minor": 0,
  "metadata": {
    "colab": {
      "provenance": [],
      "include_colab_link": true
    },
    "kernelspec": {
      "display_name": "Python 3",
      "language": "python",
      "name": "python3"
    },
    "language_info": {
      "codemirror_mode": {
        "name": "ipython",
        "version": 3
      },
      "file_extension": ".py",
      "mimetype": "text/x-python",
      "name": "python",
      "nbconvert_exporter": "python",
      "pygments_lexer": "ipython3",
      "version": "3.7.3"
    }
  },
  "cells": [
    {
      "cell_type": "markdown",
      "metadata": {
        "id": "view-in-github",
        "colab_type": "text"
      },
      "source": [
        "<a href=\"https://colab.research.google.com/github/charonne2023/SQL/blob/main/charonne2023_Finals_correcting_02_01_2023_RA_2020_student.ipynb\" target=\"_parent\"><img src=\"https://colab.research.google.com/assets/colab-badge.svg\" alt=\"Open In Colab\"/></a>"
      ]
    },
    {
      "cell_type": "markdown",
      "metadata": {
        "id": "cGbn68fuu5u8"
      },
      "source": [
        "# DB Finals 오답정리 2023년1월2일"
      ]
    },
    {
      "cell_type": "markdown",
      "metadata": {
        "id": "SG-fDO3QbVDu"
      },
      "source": [
        "1. unknown and true의 진리값은? (unknown true false 중에서) \n",
        "-> unknown\n",
        "'and'의 집중하면 바로 답이 나옵니다.. \n",
        "2. 테이블 생성시 기본키(Primary key)를 제외한 나머지 후보키(또는 키)들은 ______ 키워드를 사용하여 선언하여야 한다. (영어 소문자로 답하시오.)\n",
        "-> unique\n",
        "3. 일반적으로 CHAR 타입은 VARCHAR 타입보다 질의수행 속도에서 더 유리하다. Ture or False?\n",
        "-> False 질의수행 속도에서 크게 차이 나지 않는다. 오히려 짧게 CHAR로 제한해두었다가 긴 게 왔을 때 그때 VARCHAR로 바꿔지는 게 더 속도에 영향을 미친다. (블로그 피셜)\n",
        "4. GROUP BY를 사용한 view는 갱신가능(upadatable) view이다. True or False?\n",
        "-> False. \"갱신할 수 없는 뷰\" 그룹화, 집단함수를 사용하여 정의된 뷰는 갱신 불가하다. 일반적으로 다수의 테이블을 조인하여 정의한 뷰는 갱신할 수 없다. \n",
        "5. OLAP 환경에서 뷰를 사용하여 데이터 분석을 하는 경우, 질의수정방식을 사용하는 것이 OLAP 응용의 수행 성능 면에서 유리하지 않다. True or False?\n",
        "?????????\n"
      ]
    }
  ]
}